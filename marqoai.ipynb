{
 "cells": [
  {
   "cell_type": "code",
   "execution_count": null,
   "metadata": {},
   "outputs": [],
   "source": [
    "import pandas as pd\n",
    "import marqo\n",
    "\n",
    "\n",
    "df = pd.read_csv('data.csv', encoding='cp1252')\n",
    "# print(df[:10])\n",
    "df_trimmed = df.head(2)\n",
    "list_of_dict = df_trimmed.to_dict('records')"
   ]
  },
  {
   "cell_type": "code",
   "execution_count": null,
   "metadata": {},
   "outputs": [],
   "source": [
    "def utf8len(s):\n",
    "    return len(s.encode('utf-8'))"
   ]
  },
  {
   "cell_type": "code",
   "execution_count": null,
   "metadata": {},
   "outputs": [],
   "source": [
    "INDEX_NAME = \"my-index2\""
   ]
  },
  {
   "cell_type": "code",
   "execution_count": null,
   "metadata": {},
   "outputs": [],
   "source": [
    "mq = marqo.Client(url=\"http://localhost:8882\")\n",
    "response = mq.get_index(INDEX_NAME)"
   ]
  },
  {
   "cell_type": "code",
   "execution_count": null,
   "metadata": {},
   "outputs": [],
   "source": [
    "results = mq.index(INDEX_NAME).search(\n",
    "    q=\"What added inserted by the Finance Act, 2021?\"\n",
    ")\n",
    "\n",
    "print(results['hits'][0]['_highlights'])"
   ]
  },
  {
   "cell_type": "markdown",
   "metadata": {},
   "source": [
    "Output:\n",
    "[{'pdf_text': '28.09.2015 vide Gazette Notification F. No\\n19/54/2015, Extraordinary, PC, Se. 3, Sub-secton (i) dated 28.08.2015\\n\\n\"Inger by the Finance Act, 2024 (13 of 2021) wef, Ape, 2023,\\n\\n° inserted by Pat of Chapter Vl ofthe Finance Act 2015, wef.'}"
   ]
  },
  {
   "cell_type": "code",
   "execution_count": null,
   "metadata": {},
   "outputs": [],
   "source": []
  },
  {
   "cell_type": "code",
   "execution_count": null,
   "metadata": {},
   "outputs": [],
   "source": [
    "for i in list_of_dict:\n",
    "    print(len(i['pdf_text']))\n",
    "    print(\"size in bytes of pdf_text: \",utf8len(i['pdf_text']))"
   ]
  },
  {
   "cell_type": "code",
   "execution_count": null,
   "metadata": {},
   "outputs": [],
   "source": [
    "mq = marqo.Client(url=\"http://localhost:8882\")\n",
    "\n",
    "INDEX_NAME = \"my-index1\"\n",
    "\n",
    "settings = {\n",
    "    \"textPreprocessing\": {\n",
    "        \"splitLength\": 2,\n",
    "        \"splitOverlap\": 0,\n",
    "        \"splitMethod\": \"sentence\",\n",
    "    },\n",
    "}\n",
    "\n",
    "response = mq.create_index(INDEX_NAME, settings_dict=settings)\n",
    "print(response)\n",
    "\n",
    "response = mq.index(INDEX_NAME).add_documents(\n",
    "    list_of_dict,\n",
    "    # client_batch_size=50,\n",
    "    tensor_fields=[\"pdf_text\"],\n",
    ")\n",
    "print(response)\n",
    "\n",
    "results = mq.index(INDEX_NAME).get_stats()\n",
    "print(results)\n",
    "\n",
    "\n",
    "results = mq.index(INDEX_NAME).search(\n",
    "    q=\"What is the act name?\"\n",
    ")\n",
    "print(results)\n",
    "# mq.index(INDEX_NAME).add_documents(\n",
    "#     [\n",
    "#         {\n",
    "#             \"Title\": \"The Travels of Marco Polo\",\n",
    "#             \"Description\": \"A 13th-century travelogue describing Polo's travels\",\n",
    "#         },\n",
    "#         {\n",
    "#             \"Title\": \"Extravehicular Mobility Unit (EMU)\",\n",
    "#             \"Description\": \"The EMU is a spacesuit that provides environmental protection, \"\n",
    "#             \"mobility, life support, and communications for astronauts\",\n",
    "#             \"_id\": \"article_591\",\n",
    "#         },\n",
    "#     ],\n",
    "#     tensor_fields=[\"Description\"],\n",
    "# )\n",
    "\n"
   ]
  },
  {
   "cell_type": "code",
   "execution_count": null,
   "metadata": {},
   "outputs": [],
   "source": [
    "results = mq.index(INDEX_NAME).search(\n",
    "    q=\"What is negatives of life?\"\n",
    ")\n",
    "print(len(results['hits'][0]['pdf_text']))\n",
    "# for i in results:\n",
    "#     print(i[0])"
   ]
  },
  {
   "cell_type": "code",
   "execution_count": null,
   "metadata": {},
   "outputs": [],
   "source": [
    "# import marqo\n",
    "# mq = marqo.Client(url=\"http://localhost:8882\")\n",
    "\n",
    "# # settings = {\n",
    "    \n",
    "# #         \"text_preprocessing\": {\n",
    "# #             \"split_length\": 2,\n",
    "# #             \"split_overlap\": 0,\n",
    "# #             \"split_method\": \"sentence\"\n",
    "# #         },\n",
    "# # }\n",
    "\n",
    "# settings = {\n",
    "#     \"textPreprocessing\": {\n",
    "#         \"splitLength\": 2,\n",
    "#         \"splitOverlap\": 0,\n",
    "#         \"splitMethod\": \"sentence\",\n",
    "#     },\n",
    "# }\n",
    "\n",
    "# mq.create_index(\"my-first-index6\", settings_dict=settings)\n",
    "\n",
    "\n",
    "# # mq.create_index(\"my-first-index6\", settings_dict=settings,model=\"hf/e5-base-v2\")\n",
    "# # mq.create_index(\"my-first-index2\", model=\"openai/text-embedding-ada-002\")\n",
    "\n",
    "# # List of dictionaries\n",
    "\n",
    "# mq.index(\"my-first-index6\").add_documents(\n",
    "#     list_of_dict,\n",
    "#     tensor_fields=[\"pdf_text\"],\n",
    "# )\n",
    "\n",
    "\n",
    "\n",
    "\n",
    "\n",
    "\n",
    "# # mq.index(\"my-first-index\").add_documents(\n",
    "# #     [\n",
    "# #         {\n",
    "# #             \"Title\": \"The Travels of Marco Polo\",\n",
    "# #             \"Description\": \"A 13th-century travelogue describing Polo's travels\",\n",
    "# #         },\n",
    "# #         {\n",
    "# #             \"Title\": \"Extravehicular Mobility Unit (EMU)\",\n",
    "# #             \"Description\": \"The EMU is a spacesuit that provides environmental protection, \"\n",
    "# #             \"mobility, life support, and communications for astronauts\",\n",
    "# #             \"_id\": \"article_591\",\n",
    "# #         },\n",
    "# #     ],\n",
    "# #     tensor_fields=[\"Description\"],\n",
    "# # )\n",
    "\n"
   ]
  },
  {
   "cell_type": "code",
   "execution_count": null,
   "metadata": {},
   "outputs": [],
   "source": []
  }
 ],
 "metadata": {
  "kernelspec": {
   "display_name": "Python 3",
   "language": "python",
   "name": "python3"
  },
  "language_info": {
   "codemirror_mode": {
    "name": "ipython",
    "version": 3
   },
   "file_extension": ".py",
   "mimetype": "text/x-python",
   "name": "python",
   "nbconvert_exporter": "python",
   "pygments_lexer": "ipython3",
   "version": "3.10.0"
  }
 },
 "nbformat": 4,
 "nbformat_minor": 2
}
